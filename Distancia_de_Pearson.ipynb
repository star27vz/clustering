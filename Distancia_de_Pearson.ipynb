{
  "nbformat": 4,
  "nbformat_minor": 0,
  "metadata": {
    "colab": {
      "provenance": []
    },
    "kernelspec": {
      "name": "python3",
      "display_name": "Python 3"
    },
    "language_info": {
      "name": "python"
    }
  },
  "cells": [
    {
      "cell_type": "code",
      "source": [
        "from math import sqrt\n",
        "import pandas as pd\n",
        "import seaborn as sns\n",
        "import matplotlib.pyplot as plt"
      ],
      "metadata": {
        "id": "k59Wubz0bvEn"
      },
      "execution_count": 3,
      "outputs": []
    },
    {
      "cell_type": "code",
      "source": [
        "X = [185, 170, 168, 179, 182, 188]\n",
        "Y = [72, 56, 60, 68, 72, 77]\n",
        "\n",
        "def distancia_pearson(x, y):\n",
        "    n = len(x)\n",
        "    #Sumatoria de x - y\n",
        "    sum_x = sum(x)\n",
        "    sum_y = sum(y)\n",
        "\n",
        "    sum_xy = sum(x[i] * y[i] for i in range(n)) #Sumatoria del producto de x -y\n",
        "\n",
        "    #Sumatoria de x- y al cuadrado\n",
        "    sum_x_cuadrado = sum(x[i] ** 2 for i in range(n))\n",
        "    sum_y_cuadrado = sum(y[i] ** 2 for i in range(n))\n",
        "\n",
        "    #Aplicación de fomrula\n",
        "    numerador = n * sum_xy - sum_x * sum_y\n",
        "    denominador = sqrt((n * sum_x_cuadrado - sum_x ** 2) * (n * sum_y_cuadrado - sum_y ** 2))\n",
        "    r_x_y = numerador / denominador\n",
        "    return r_x_y\n",
        "\n",
        "distancia = distancia_pearson(X, Y)\n",
        "print(f\"Distancia de Pearson entre X y Y = {distancia}\")"
      ],
      "metadata": {
        "colab": {
          "base_uri": "https://localhost:8080/"
        },
        "id": "P6ytpxTgbpnG",
        "outputId": "4366beb6-c435-4e43-85d0-c908f7fbddb5"
      },
      "execution_count": 4,
      "outputs": [
        {
          "output_type": "stream",
          "name": "stdout",
          "text": [
            "Distancia de Pearson entre X y Y = 0.9647705683244995\n"
          ]
        }
      ]
    },
    {
      "cell_type": "code",
      "source": [
        "df = pd.DataFrame(\n",
        "    {\n",
        "        \"X\": [185, 170, 168, 179, 182, 188],\n",
        "        \"Y\": [72, 56, 60, 68, 72, 77],\n",
        "    }\n",
        ")\n",
        "\n",
        "corr_df = df.corr(method=\"pearson\")\n",
        "\n",
        "plt.figure(figsize=(6, 4))\n",
        "sns.heatmap(corr_df, annot=True)\n",
        "plt.show()"
      ],
      "metadata": {
        "colab": {
          "base_uri": "https://localhost:8080/",
          "height": 374
        },
        "id": "QgFPTxYCbspR",
        "outputId": "8105a79d-3056-4580-d33a-d781fdb69e7f"
      },
      "execution_count": 6,
      "outputs": [
        {
          "output_type": "display_data",
          "data": {
            "text/plain": [
              "<Figure size 600x400 with 2 Axes>"
            ],
            "image/png": "[encoded data removed]"
          },
          "metadata": {}
        }
      ]
    }
  ]
}